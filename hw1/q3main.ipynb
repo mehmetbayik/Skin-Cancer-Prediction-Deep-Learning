{
 "cells": [
  {
   "cell_type": "code",
   "execution_count": 84,
   "metadata": {},
   "outputs": [],
   "source": [
    "#importing libraries\n",
    "import numpy as np\n",
    "import pandas as pd\n",
    "import matplotlib.pyplot as plt\n"
   ]
  },
  {
   "cell_type": "code",
   "execution_count": 85,
   "metadata": {},
   "outputs": [],
   "source": [
    "X_train = pd.read_csv('dataset/X_train.csv',delim_whitespace=True)\n",
    "y_train = pd.read_csv('dataset/y_train.csv', names=['class_label'])\n",
    "X_test = pd.read_csv('dataset/X_test.csv',delim_whitespace=True)\n",
    "y_test = pd.read_csv('dataset/y_test.csv', names=['class_label'])"
   ]
  },
  {
   "cell_type": "code",
   "execution_count": 86,
   "metadata": {},
   "outputs": [
    {
     "name": "stdout",
     "output_type": "stream",
     "text": [
      "The shape of X_train is: (1668, 9635)\n",
      "The shape of y_train is: (1668, 1)\n",
      "The shape of X_test is: (557, 9635)\n",
      "The shape of y_test is: (557, 1)\n"
     ]
    }
   ],
   "source": [
    "print('The shape of X_train is:',X_train.shape)\n",
    "print('The shape of y_train is:',y_train.shape)\n",
    "print('The shape of X_test is:',X_test.shape)\n",
    "print('The shape of y_test is:',y_test.shape)"
   ]
  },
  {
   "cell_type": "code",
   "execution_count": 87,
   "metadata": {},
   "outputs": [
    {
     "data": {
      "text/html": [
       "<div>\n",
       "<style scoped>\n",
       "    .dataframe tbody tr th:only-of-type {\n",
       "        vertical-align: middle;\n",
       "    }\n",
       "\n",
       "    .dataframe tbody tr th {\n",
       "        vertical-align: top;\n",
       "    }\n",
       "\n",
       "    .dataframe thead th {\n",
       "        text-align: right;\n",
       "    }\n",
       "</style>\n",
       "<table border=\"1\" class=\"dataframe\">\n",
       "  <thead>\n",
       "    <tr style=\"text-align: right;\">\n",
       "      <th></th>\n",
       "      <th>ad</th>\n",
       "      <th>sale</th>\n",
       "      <th>boost</th>\n",
       "      <th>time</th>\n",
       "      <th>warner</th>\n",
       "      <th>profit</th>\n",
       "      <th>quarterli</th>\n",
       "      <th>media</th>\n",
       "      <th>giant</th>\n",
       "      <th>jump</th>\n",
       "      <th>...</th>\n",
       "      <th>denialofservic</th>\n",
       "      <th>ddo</th>\n",
       "      <th>seagrav</th>\n",
       "      <th>bot</th>\n",
       "      <th>wirelessli</th>\n",
       "      <th>streamcast</th>\n",
       "      <th>peripher</th>\n",
       "      <th>headphon</th>\n",
       "      <th>flavour</th>\n",
       "      <th>class_label</th>\n",
       "    </tr>\n",
       "  </thead>\n",
       "  <tbody>\n",
       "    <tr>\n",
       "      <th>0</th>\n",
       "      <td>1</td>\n",
       "      <td>1</td>\n",
       "      <td>0</td>\n",
       "      <td>0</td>\n",
       "      <td>0</td>\n",
       "      <td>0</td>\n",
       "      <td>0</td>\n",
       "      <td>4</td>\n",
       "      <td>1</td>\n",
       "      <td>0</td>\n",
       "      <td>...</td>\n",
       "      <td>0</td>\n",
       "      <td>0</td>\n",
       "      <td>0</td>\n",
       "      <td>0</td>\n",
       "      <td>0</td>\n",
       "      <td>0</td>\n",
       "      <td>0</td>\n",
       "      <td>0</td>\n",
       "      <td>0</td>\n",
       "      <td>4</td>\n",
       "    </tr>\n",
       "    <tr>\n",
       "      <th>1</th>\n",
       "      <td>0</td>\n",
       "      <td>0</td>\n",
       "      <td>0</td>\n",
       "      <td>0</td>\n",
       "      <td>0</td>\n",
       "      <td>0</td>\n",
       "      <td>0</td>\n",
       "      <td>0</td>\n",
       "      <td>0</td>\n",
       "      <td>0</td>\n",
       "      <td>...</td>\n",
       "      <td>0</td>\n",
       "      <td>0</td>\n",
       "      <td>0</td>\n",
       "      <td>0</td>\n",
       "      <td>0</td>\n",
       "      <td>0</td>\n",
       "      <td>0</td>\n",
       "      <td>0</td>\n",
       "      <td>0</td>\n",
       "      <td>1</td>\n",
       "    </tr>\n",
       "    <tr>\n",
       "      <th>2</th>\n",
       "      <td>1</td>\n",
       "      <td>0</td>\n",
       "      <td>0</td>\n",
       "      <td>0</td>\n",
       "      <td>0</td>\n",
       "      <td>0</td>\n",
       "      <td>0</td>\n",
       "      <td>0</td>\n",
       "      <td>0</td>\n",
       "      <td>0</td>\n",
       "      <td>...</td>\n",
       "      <td>0</td>\n",
       "      <td>0</td>\n",
       "      <td>0</td>\n",
       "      <td>0</td>\n",
       "      <td>0</td>\n",
       "      <td>0</td>\n",
       "      <td>0</td>\n",
       "      <td>0</td>\n",
       "      <td>0</td>\n",
       "      <td>1</td>\n",
       "    </tr>\n",
       "    <tr>\n",
       "      <th>3</th>\n",
       "      <td>0</td>\n",
       "      <td>0</td>\n",
       "      <td>1</td>\n",
       "      <td>0</td>\n",
       "      <td>0</td>\n",
       "      <td>0</td>\n",
       "      <td>0</td>\n",
       "      <td>0</td>\n",
       "      <td>0</td>\n",
       "      <td>0</td>\n",
       "      <td>...</td>\n",
       "      <td>0</td>\n",
       "      <td>0</td>\n",
       "      <td>0</td>\n",
       "      <td>0</td>\n",
       "      <td>0</td>\n",
       "      <td>0</td>\n",
       "      <td>0</td>\n",
       "      <td>0</td>\n",
       "      <td>0</td>\n",
       "      <td>0</td>\n",
       "    </tr>\n",
       "    <tr>\n",
       "      <th>4</th>\n",
       "      <td>0</td>\n",
       "      <td>0</td>\n",
       "      <td>0</td>\n",
       "      <td>1</td>\n",
       "      <td>0</td>\n",
       "      <td>0</td>\n",
       "      <td>0</td>\n",
       "      <td>0</td>\n",
       "      <td>0</td>\n",
       "      <td>0</td>\n",
       "      <td>...</td>\n",
       "      <td>0</td>\n",
       "      <td>0</td>\n",
       "      <td>0</td>\n",
       "      <td>0</td>\n",
       "      <td>0</td>\n",
       "      <td>0</td>\n",
       "      <td>0</td>\n",
       "      <td>0</td>\n",
       "      <td>0</td>\n",
       "      <td>0</td>\n",
       "    </tr>\n",
       "  </tbody>\n",
       "</table>\n",
       "<p>5 rows × 9636 columns</p>\n",
       "</div>"
      ],
      "text/plain": [
       "   ad  sale  boost  time  warner  profit  quarterli  media  giant  jump  ...  \\\n",
       "0   1     1      0     0       0       0          0      4      1     0  ...   \n",
       "1   0     0      0     0       0       0          0      0      0     0  ...   \n",
       "2   1     0      0     0       0       0          0      0      0     0  ...   \n",
       "3   0     0      1     0       0       0          0      0      0     0  ...   \n",
       "4   0     0      0     1       0       0          0      0      0     0  ...   \n",
       "\n",
       "   denialofservic  ddo  seagrav  bot  wirelessli  streamcast  peripher  \\\n",
       "0               0    0        0    0           0           0         0   \n",
       "1               0    0        0    0           0           0         0   \n",
       "2               0    0        0    0           0           0         0   \n",
       "3               0    0        0    0           0           0         0   \n",
       "4               0    0        0    0           0           0         0   \n",
       "\n",
       "   headphon  flavour  class_label  \n",
       "0         0        0            4  \n",
       "1         0        0            1  \n",
       "2         0        0            1  \n",
       "3         0        0            0  \n",
       "4         0        0            0  \n",
       "\n",
       "[5 rows x 9636 columns]"
      ]
     },
     "execution_count": 87,
     "metadata": {},
     "output_type": "execute_result"
    }
   ],
   "source": [
    "train_data = pd.concat([X_train, y_train], axis=1)\n",
    "test_data = pd.concat([X_test, y_test], axis=1)\n",
    "train_data.head()"
   ]
  },
  {
   "cell_type": "code",
   "execution_count": 88,
   "metadata": {},
   "outputs": [
    {
     "name": "stdout",
     "output_type": "stream",
     "text": [
      "The shape of train_data is: (1668, 9636)\n",
      "The shape of test_data is: (557, 9636)\n"
     ]
    }
   ],
   "source": [
    "print('The shape of train_data is:',train_data.shape)\n",
    "print('The shape of test_data is:',test_data.shape)"
   ]
  },
  {
   "cell_type": "code",
   "execution_count": 89,
   "metadata": {},
   "outputs": [
    {
     "name": "stdout",
     "output_type": "stream",
     "text": [
      "[375, 284, 319, 377, 313]\n",
      "[135, 102, 98, 134, 88]\n"
     ]
    }
   ],
   "source": [
    "#class label counts\n",
    "train_list = list(train_data.class_label.value_counts().sort_index())\n",
    "test_list = list(test_data.class_label.value_counts().sort_index())\n",
    "print(train_list)\n",
    "print(test_list)"
   ]
  },
  {
   "cell_type": "code",
   "execution_count": 90,
   "metadata": {},
   "outputs": [
    {
     "data": {
      "image/png": "[encoded data removed]",
      "text/plain": [
       "<Figure size 600x200 with 2 Axes>"
      ]
     },
     "metadata": {},
     "output_type": "display_data"
    }
   ],
   "source": [
    "# Get the class labels and their counts for train data\n",
    "train_class_labels = train_data.class_label.unique()\n",
    "train_class_counts = train_data.class_label.value_counts().sort_index()\n",
    "\n",
    "# Get the class labels and their counts for test data\n",
    "test_class_labels = test_data.class_label.unique()\n",
    "test_class_counts = test_data.class_label.value_counts().sort_index()\n",
    "\n",
    "# Create subplots\n",
    "fig, (ax1, ax2) = plt.subplots(1, 2, figsize=(6, 2))\n",
    "\n",
    "# Plot train data on first subplot\n",
    "ax1.bar(train_class_labels, train_class_counts)\n",
    "ax1.set_xlabel('Class Labels')\n",
    "ax1.set_ylabel('Number of Instances')\n",
    "ax1.set_title('Train Data Labels')\n",
    "\n",
    "# Plot test data on second subplot\n",
    "ax2.bar(test_class_labels, test_class_counts)\n",
    "ax2.set_xlabel('Class Labels')\n",
    "ax2.set_title('Test Data Labels')\n",
    "\n",
    "# Show the plot\n",
    "plt.show()"
   ]
  },
  {
   "cell_type": "code",
   "execution_count": 91,
   "metadata": {},
   "outputs": [
    {
     "name": "stdout",
     "output_type": "stream",
     "text": [
      "In Training Data\n",
      "The Percentage of Documents belongs to Label 0 is:  22.48 %\n",
      "The Percentage of Documents belongs to Label 1 is:  17.03 %\n",
      "The Percentage of Documents belongs to Label 2 is:  19.12 %\n",
      "The Percentage of Documents belongs to Label 3 is:  22.6 %\n",
      "The Percentage of Documents belongs to Label 4 is:  18.76 %\n",
      "\n",
      "\n",
      "In Validation Data\n",
      "The Percentage of Documents belongs to Label 0 is:  24.24 %\n",
      "The Percentage of Documents belongs to Label 1 is:  18.31 %\n",
      "The Percentage of Documents belongs to Label 2 is:  17.59 %\n",
      "The Percentage of Documents belongs to Label 3 is:  24.06 %\n",
      "The Percentage of Documents belongs to Label 4 is:  15.8 %\n"
     ]
    }
   ],
   "source": [
    "print('In Training Data')\n",
    "for i in range(5):\n",
    "    print(\"The Percentage of Documents belongs to Label\",i,\"is: \",round(train_list[i]/(sum(train_list))*10000)/100,\"%\")\n",
    "\n",
    "print(\"\\n\")\n",
    "print('In Validation Data')\n",
    "for i in range(5):\n",
    "    print(\"The Percentage of Documents belongs to Label\",i,\"is: \",round(test_list[i]/(sum(test_list))*10000)/100,\"%\")\n"
   ]
  },
  {
   "cell_type": "code",
   "execution_count": 92,
   "metadata": {},
   "outputs": [
    {
     "data": {
      "image/png": "[encoded data removed]",
      "text/plain": [
       "<Figure size 600x300 with 2 Axes>"
      ]
     },
     "metadata": {},
     "output_type": "display_data"
    }
   ],
   "source": [
    "# Get the class labels and their counts for train data\n",
    "train_class_labels = ['Label 0', 'Label 1', 'Label 2', 'Label 3', 'Label 4']\n",
    "train_class_counts = train_list\n",
    "\n",
    "# Get the class labels and their counts for test data\n",
    "test_class_labels = ['Label 0', 'Label 1', 'Label 2', 'Label 3', 'Label 4']\n",
    "test_class_counts = test_list\n",
    "\n",
    "# Create subplots\n",
    "fig, (ax1, ax2) = plt.subplots(1, 2, figsize=(6, 3))\n",
    "\n",
    "# Plot train data on first subplot\n",
    "ax1.pie(train_class_counts, labels=train_class_labels, autopct='%1.1f%%')\n",
    "ax1.set_title('Distribution of Train Data')\n",
    "\n",
    "# Plot test data on second subplot\n",
    "ax2.pie(test_class_counts, labels=test_class_labels, autopct='%1.1f%%')\n",
    "ax2.set_title('Distribution of Test Data')\n",
    "\n",
    "# Show the plot\n",
    "plt.show()"
   ]
  },
  {
   "cell_type": "code",
   "execution_count": 143,
   "metadata": {},
   "outputs": [
    {
     "data": {
      "image/png": "[encoded data removed]",
      "text/plain": [
       "<Figure size 640x480 with 1 Axes>"
      ]
     },
     "metadata": {},
     "output_type": "display_data"
    }
   ],
   "source": [
    "#plotting train and test data distribution to check if they are similar\n",
    "fig, ax = plt.subplots(1, 1)\n",
    "bins = np.linspace(train_data.iloc[:,-1].values.min() - .25, train_data.iloc[:,-1].values.max() + .25, 10)\n",
    "ax.hist(train_data.iloc[:,-1].values,bins=bins)\n",
    "ax.hist(test_data.iloc[:,-1].values,bins=bins)\n",
    "ax.set_title(\"Data Distributions of Train and Test Data (Blue: Train, Orange: Test)\")\n",
    "ax.set_xlabel('Class Labels')\n",
    "ax.set_ylabel('Number of Instances')\n",
    "plt.show()"
   ]
  },
  {
   "cell_type": "code",
   "execution_count": 94,
   "metadata": {},
   "outputs": [
    {
     "name": "stdout",
     "output_type": "stream",
     "text": [
      "x_train shape: (1668, 9635)\n",
      "x_test shape: (557, 9635)\n",
      "y_train shape: (1668,)\n",
      "y_test shape: (557,)\n"
     ]
    }
   ],
   "source": [
    "#splitting data into features and labels for train and test data as numpy arrays\n",
    "x_train = train_data.iloc[:,:-1].values\n",
    "x_test = test_data.iloc[:,:-1].values\n",
    "y_train = train_data.iloc[:,-1].values\n",
    "y_test =  test_data.iloc[:,-1].values\n",
    "\n",
    "#splitting data into features and labels for train and test data as pandas dataframes\n",
    "X_train = train_data.drop('class_label', axis=1)\n",
    "X_test = test_data.drop('class_label', axis=1)\n",
    "Y_train = train_data['class_label']\n",
    "Y_test =  test_data['class_label']\n",
    "\n",
    "print(\"x_train shape: \"+ str(np.shape(x_train)))\n",
    "print(\"x_test shape: \"+ str(np.shape(x_test)))\n",
    "print(\"y_train shape: \"+ str(np.shape(y_train)))\n",
    "print(\"y_test shape: \"+ str(np.shape(y_test)))\n"
   ]
  },
  {
   "cell_type": "code",
   "execution_count": 95,
   "metadata": {},
   "outputs": [
    {
     "name": "stdout",
     "output_type": "stream",
     "text": [
      "291\n",
      "314\n",
      "1149\n",
      "\n",
      "\n",
      "Number of alien words in tech label:  3\n",
      "Number of thunder words in tech label:  0\n",
      "Number of all words in tech label:  79685\n",
      "\n",
      "\n",
      "Probability of alien words in tech label 3.764823994478258e-05\n",
      "Probability of thunder words in tech label 0.0\n",
      "\n",
      "\n",
      "Log Probability of alien words in tech label -10.187224352625625\n",
      "Log Probability of thunder words in tech label -inf\n"
     ]
    },
    {
     "name": "stderr",
     "output_type": "stream",
     "text": [
      "/var/folders/8c/r_rgg7rn3_1753l7y7gh1vqm0000gn/T/ipykernel_14650/1712426311.py:20: RuntimeWarning: divide by zero encountered in log\n",
      "  log_prob_thunder = np.log(prob_thunder)\n"
     ]
    }
   ],
   "source": [
    "summ_alien=0\n",
    "summ_thunder=0\n",
    "all_tech_words=0\n",
    "for row_index in range(len(train_data['alien'])):\n",
    "    if train_data['class_label'][row_index] == 4:\n",
    "        all_tech_words += train_data.iloc[row_index].sum()\n",
    "        summ_alien += train_data['alien'][row_index] + train_data['thunder'][row_index]\n",
    "        summ_thunder += train_data['thunder'][row_index]\n",
    "        if train_data['alien'][row_index] + train_data['thunder'][row_index] > 0:\n",
    "            print(row_index)\n",
    "            \n",
    "print(\"\\n\")\n",
    "print('Number of alien words in tech label: ',summ_alien)\n",
    "print('Number of thunder words in tech label: ',summ_thunder)\n",
    "print('Number of all words in tech label: ',all_tech_words)\n",
    "\n",
    "prob_alien = summ_alien/all_tech_words\n",
    "prob_thunder = summ_thunder/all_tech_words\n",
    "log_prob_alien = np.log(prob_alien)\n",
    "log_prob_thunder = np.log(prob_thunder)\n",
    "\n",
    "print(\"\\n\")\n",
    "print('Probability of alien words in tech label',prob_alien)\n",
    "print('Probability of thunder words in tech label',prob_thunder)\n",
    "print(\"\\n\")\n",
    "print('Log Probability of alien words in tech label',log_prob_alien)\n",
    "print('Log Probability of thunder words in tech label',log_prob_thunder)"
   ]
  },
  {
   "cell_type": "code",
   "execution_count": 96,
   "metadata": {},
   "outputs": [],
   "source": [
    "#function to calculate confusion matrix\n",
    "def comp_confmat(actual, predicted):\n",
    "    classes = np.unique(actual)\n",
    "    confusion_matrix = np.zeros((len(classes), len(classes)))\n",
    "    for i in range(len(classes)):\n",
    "        for j in range(len(classes)):\n",
    "           confusion_matrix[i, j] = np.sum((actual == classes[i]) & (predicted == classes[j]))\n",
    "    return confusion_matrix"
   ]
  },
  {
   "cell_type": "code",
   "execution_count": 141,
   "metadata": {},
   "outputs": [
    {
     "name": "stdout",
     "output_type": "stream",
     "text": [
      "[63889. 48294. 72192. 63570. 79685.]\n",
      "Prior Probability of Class 0 is: 0.22482014388489208\n",
      "Prior Probability of Class 1 is: 0.17026378896882494\n",
      "Prior Probability of Class 2 is: 0.19124700239808154\n",
      "Prior Probability of Class 3 is: 0.2260191846522782\n",
      "Prior Probability of Class 4 is: 0.18764988009592326\n"
     ]
    }
   ],
   "source": [
    "train = pd.concat([X_train, Y_train], axis=1)\n",
    "\n",
    "#finding priors\n",
    "prior0 = train.loc[train['class_label'] == 0].select_dtypes(np.number).sum().rename('total0').drop('class_label', axis=0)\n",
    "prior1 = train.loc[train['class_label'] == 1].select_dtypes(np.number).sum().rename('total1').drop('class_label', axis=0)\n",
    "prior2 = train.loc[train['class_label'] == 2].select_dtypes(np.number).sum().rename('total2').drop('class_label', axis=0)\n",
    "prior3 = train.loc[train['class_label'] == 3].select_dtypes(np.number).sum().rename('total3').drop('class_label', axis=0)\n",
    "prior4 = train.loc[train['class_label'] == 4].select_dtypes(np.number).sum().rename('total4').drop('class_label', axis=0)\n",
    "total_prior = X_train.select_dtypes(np.number).sum().rename('total_prior')\n",
    "\n",
    "#finding total word count in each class\n",
    "total_word_cnt = np.zeros(5)\n",
    "for k in range (0,5):\n",
    "    total_word_cnt[k] = train.loc[train['class_label'] == k].select_dtypes(np.number).values.sum()\n",
    "\n",
    "#finding prior probabilities for each class\n",
    "prior_prob = list(train_data.class_label.value_counts().sort_index()/train_data.shape[0])\n",
    "prior_prob_ln = np.log(prior_prob)\n",
    "print(total_word_cnt)\n",
    "for i in range(0,5):\n",
    "    print('Prior Probability of Class '+str(i)+' is: '+str(prior_prob[i]))\n",
    "\n",
    "\n"
   ]
  },
  {
   "attachments": {},
   "cell_type": "markdown",
   "metadata": {},
   "source": [
    "# **3.2 Multinomial Naive Bayes MLE**"
   ]
  },
  {
   "cell_type": "code",
   "execution_count": 120,
   "metadata": {},
   "outputs": [
    {
     "name": "stdout",
     "output_type": "stream",
     "text": [
      "Accuracy -> 0.24236983842010773\n",
      "False predictions -> 422\n",
      "Correct predictions -> 135\n",
      "[[135.   0.   0.   0.   0.]\n",
      " [102.   0.   0.   0.   0.]\n",
      " [ 98.   0.   0.   0.   0.]\n",
      " [134.   0.   0.   0.   0.]\n",
      " [ 88.   0.   0.   0.   0.]]\n"
     ]
    },
    {
     "name": "stderr",
     "output_type": "stream",
     "text": [
      "/var/folders/8c/r_rgg7rn3_1753l7y7gh1vqm0000gn/T/ipykernel_14650/2574761018.py:41: RuntimeWarning: invalid value encountered in multiply\n",
      "  temp0 = prior0_prb * row.values\n",
      "/var/folders/8c/r_rgg7rn3_1753l7y7gh1vqm0000gn/T/ipykernel_14650/2574761018.py:43: RuntimeWarning: invalid value encountered in multiply\n",
      "  temp1 = prior1_prb * row.values\n",
      "/var/folders/8c/r_rgg7rn3_1753l7y7gh1vqm0000gn/T/ipykernel_14650/2574761018.py:45: RuntimeWarning: invalid value encountered in multiply\n",
      "  temp2 = prior2_prb * row.values\n",
      "/var/folders/8c/r_rgg7rn3_1753l7y7gh1vqm0000gn/T/ipykernel_14650/2574761018.py:47: RuntimeWarning: invalid value encountered in multiply\n",
      "  temp3 = prior3_prb * row.values\n",
      "/var/folders/8c/r_rgg7rn3_1753l7y7gh1vqm0000gn/T/ipykernel_14650/2574761018.py:49: RuntimeWarning: invalid value encountered in multiply\n",
      "  temp4 = prior4_prb * row.values\n"
     ]
    }
   ],
   "source": [
    "#finding prior probabilities for each class and label as list of lists\n",
    "minus_inf = -np.inf\n",
    "prior0_prb = np.zeros(prior0.shape[0])\n",
    "for i in range(0, prior0.shape[0]):\n",
    "    if prior0[i] == 0:\n",
    "        prior0_prb[i] = minus_inf\n",
    "    else:\n",
    "        prior0_prb[i] = np.log((prior0[i])/(total_word_cnt[0]))\n",
    "prior1_prb = np.zeros(prior1.shape[0])\n",
    "for i in range(0, prior1.shape[0]):\n",
    "    if prior1[i] == 0:\n",
    "        prior1_prb[i] = minus_inf\n",
    "    else:\n",
    "        prior1_prb[i] = np.log((prior1[i])/(total_word_cnt[1]))\n",
    "prior2_prb = np.zeros(prior2.shape[0])\n",
    "for i in range(0, prior2.shape[0]):\n",
    "    if prior2[i] == 0:\n",
    "        prior2_prb[i] = minus_inf\n",
    "    else:\n",
    "        prior2_prb[i] = np.log((prior2[i])/(total_word_cnt[2]))\n",
    "prior3_prb = np.zeros(prior3.shape[0])\n",
    "for i in range(0, prior3.shape[0]):\n",
    "    if prior3[i] == 0:\n",
    "        prior3_prb[i] = minus_inf\n",
    "    else:\n",
    "        prior3_prb[i] = np.log((prior3[i])/(total_word_cnt[3]))\n",
    "prior4_prb = np.zeros(prior4.shape[0])\n",
    "for i in range(0, prior4.shape[0]):\n",
    "    if prior4[i] == 0:\n",
    "        prior4_prb[i] = minus_inf\n",
    "    else:\n",
    "        prior4_prb[i] = np.log((prior4[i])/(total_word_cnt[4]))\n",
    "\n",
    "#making mle predictions\n",
    "mle_test_prediction = [[None for y in range(5)] for x in range(Y_test.shape[0])]\n",
    "count_y_0 = 0\n",
    "count_x = 0\n",
    "\n",
    "for i in range(X_test.shape[0]):\n",
    "    row = X_test.iloc[i]\n",
    "    temp0 = prior0_prb * row.values  \n",
    "    temp0 = prior_prob_ln[0] + np.sum(temp0)\n",
    "    temp1 = prior1_prb * row.values\n",
    "    temp1 = prior_prob_ln[1] + np.sum(temp1)\n",
    "    temp2 = prior2_prb * row.values\n",
    "    temp2 = prior_prob_ln[2] + np.sum(temp2)\n",
    "    temp3 = prior3_prb * row.values\n",
    "    temp3 = prior_prob_ln[3] + np.sum(temp3)\n",
    "    temp4 = prior4_prb * row.values\n",
    "    temp4 = prior_prob_ln[4] + np.sum(temp4)\n",
    "\n",
    "    mle_test_prediction[count_x][0] = temp0\n",
    "    mle_test_prediction[count_x][1] = temp1\n",
    "    mle_test_prediction[count_x][2] = temp2\n",
    "    mle_test_prediction[count_x][3] = temp3\n",
    "    mle_test_prediction[count_x][4] = temp4\n",
    "\n",
    "    count_x += 1   \n",
    "\n",
    "#choosing the class with highest probability\n",
    "mle_test_predict = np.zeros(len(mle_test_prediction))\n",
    "for k in range(len(mle_test_prediction)):\n",
    "    #In case of multiple occurrences of the maximum values, \n",
    "    # the indices corresponding to the first occurrence are returned.\n",
    "    mle_test_predict[k] = np.argmax(mle_test_prediction[k]) \n",
    "\n",
    "#calculating accuracy and confusion matrix\n",
    "correct_predicts = np.sum(np.equal(y_test, mle_test_predict))\n",
    "acc = correct_predicts / len(y_test)\n",
    "neg_predicted_value = len(y_test) - correct_predicts\n",
    "\n",
    "print('FOR MULTINOMIAL NAIVE BAYES MLE ESTIMATION')\n",
    "print(\"Accuracy -> \" + str(acc))\n",
    "print(\"False predictions -> \" + str(len(y_test) - correct_predicts))\n",
    "print(\"Correct predictions -> \" + str(correct_predicts))    \n",
    "print(comp_confmat(y_test, mle_test_predict))"
   ]
  },
  {
   "attachments": {},
   "cell_type": "markdown",
   "metadata": {},
   "source": [
    "# **3.3 Drichler Prior MAP**"
   ]
  },
  {
   "cell_type": "code",
   "execution_count": 126,
   "metadata": {},
   "outputs": [
    {
     "name": "stdout",
     "output_type": "stream",
     "text": [
      "Accuracy -> 0.9766606822262118\n",
      "False predictions -> 13\n",
      "Correct predictions -> 544\n",
      "[[131.   0.   2.   0.   2.]\n",
      " [  0.  97.   0.   0.   5.]\n",
      " [  1.   0.  96.   0.   1.]\n",
      " [  0.   0.   1. 133.   0.]\n",
      " [  1.   0.   0.   0.  87.]]\n"
     ]
    }
   ],
   "source": [
    "#finding prior probabilities for each class and label as list of lists\n",
    "#using drichlet smoothing alpha = 1\n",
    "#other values are same as mle part\n",
    "alpha = 1\n",
    "prior0_prb_map = np.log((prior0+alpha)/(total_word_cnt[0]+(alpha*X_train.shape[1])))\n",
    "prior1_prb_map = np.log((prior1+alpha)/(total_word_cnt[1]+(alpha*X_train.shape[1])))\n",
    "prior2_prb_map = np.log((prior2+alpha)/(total_word_cnt[2]+(alpha*X_train.shape[1])))\n",
    "prior3_prb_map = np.log((prior3+alpha)/(total_word_cnt[3]+(alpha*X_train.shape[1])))\n",
    "prior4_prb_map = np.log((prior4+alpha)/(total_word_cnt[4]+(alpha*X_train.shape[1])))\n",
    "\n",
    "#making map predictions\n",
    "map_test_prediction = [[None for y in range(5)] for x in range(Y_test.shape[0])]\n",
    "count_y_0 = 0\n",
    "count_x = 0\n",
    "\n",
    "for i in range(X_test.shape[0]):\n",
    "    row = X_test.iloc[i]\n",
    "    temp0 = prior0_prb_map * row.values  \n",
    "    temp0 = prior_prob_ln[0] + np.sum(temp0)\n",
    "    temp1 = prior1_prb_map * row.values\n",
    "    temp1 = prior_prob_ln[1] + np.sum(temp1)\n",
    "    temp2 = prior2_prb_map * row.values\n",
    "    temp2 = prior_prob_ln[2] + np.sum(temp2)\n",
    "    temp3 = prior3_prb_map * row.values\n",
    "    temp3 = prior_prob_ln[3] + np.sum(temp3)\n",
    "    temp4 = prior4_prb_map * row.values\n",
    "    temp4 = prior_prob_ln[4] + np.sum(temp4)\n",
    "\n",
    "    map_test_prediction[count_x][0] = temp0\n",
    "    map_test_prediction[count_x][1] = temp1\n",
    "    map_test_prediction[count_x][2] = temp2\n",
    "    map_test_prediction[count_x][3] = temp3\n",
    "    map_test_prediction[count_x][4] = temp4\n",
    "\n",
    "    count_x += 1        \n",
    "\n",
    "#choosing the class with highest probability\n",
    "map_test_predict = np.zeros(len(map_test_prediction))\n",
    "for l in range(len(map_test_prediction)):\n",
    "    map_test_predict[l] = np.argmax(map_test_prediction[l])\n",
    "\n",
    "#calculating accuracy and confusion matrix\n",
    "correct_predicts2 = np.sum(np.equal(y_test, map_test_predict))\n",
    "acc2 = correct_predicts2 / len(y_test)\n",
    "neg_predicted_value2 = len(y_test) - correct_predicts2\n",
    "\n",
    "print('FOR MULTINOMIAL NAIVE BAYES MAP ESTIMATION')\n",
    "print(\"Accuracy -> \" + str(acc2))\n",
    "print(\"False predictions -> \" + str(neg_predicted_value2))\n",
    "print(\"Correct predictions -> \" + str(correct_predicts2))\n",
    "print(comp_confmat(y_test, map_test_predict))"
   ]
  },
  {
   "attachments": {},
   "cell_type": "markdown",
   "metadata": {},
   "source": [
    "# **3.4 Bernoulli Naive Bayes**"
   ]
  },
  {
   "cell_type": "code",
   "execution_count": 134,
   "metadata": {},
   "outputs": [
    {
     "name": "stdout",
     "output_type": "stream",
     "text": [
      "[0.22482014 0.17026379 0.191247   0.22601918 0.18764988]\n",
      "[44241. 33145. 47661. 44840. 50678.]\n"
     ]
    }
   ],
   "source": [
    "X_train_ber = X_train.copy()\n",
    "X_train_ber[X_train_ber != 0] = 1\n",
    "train_ber = pd.concat([X_train_ber, Y_train], axis=1)\n",
    "#finding priors\n",
    "prior0_ber = train_ber.loc[train_ber['class_label'] == 0].select_dtypes(np.number).sum().rename('total0').drop('class_label', axis=0)\n",
    "prior1_ber = train_ber.loc[train_ber['class_label'] == 1].select_dtypes(np.number).sum().rename('total1').drop('class_label', axis=0)\n",
    "prior2_ber = train_ber.loc[train_ber['class_label'] == 2].select_dtypes(np.number).sum().rename('total2').drop('class_label', axis=0)\n",
    "prior3_ber = train_ber.loc[train_ber['class_label'] == 3].select_dtypes(np.number).sum().rename('total3').drop('class_label', axis=0)\n",
    "prior4_ber = train_ber.loc[train_ber['class_label'] == 4].select_dtypes(np.number).sum().rename('total4').drop('class_label', axis=0)\n",
    "total_prior_ber = X_train_ber.select_dtypes(np.number).sum().rename('total_prior')\n",
    "\n",
    "#finding total word count in each class\n",
    "total_word_cnt_ber = np.zeros(5)\n",
    "prior_prob_ber = np.zeros(5)\n",
    "for k in range (0,5):\n",
    "    total_word_cnt_ber[k] = train_ber.loc[train_ber['class_label'] == k].select_dtypes(np.number).values.sum()\n",
    "    prior_prob_ber[k] = train_ber.loc[train_ber['class_label'] == k].shape[0] / X_train_ber.shape[0]\n",
    "\n",
    "\n",
    "#finding prior probabilities for each class\n",
    "prior_prob_ln_ber = np.log(prior_prob_ber)\n",
    "print(prior_prob_ber)\n",
    "print(total_word_cnt_ber)"
   ]
  },
  {
   "cell_type": "code",
   "execution_count": 135,
   "metadata": {},
   "outputs": [],
   "source": [
    "X_test_ber = X_test.copy()\n",
    "X_test_ber[X_test_ber != 0] = 1\n",
    "test_ber = pd.concat([X_test_ber, Y_test], axis=1)\n",
    "\n",
    "alpha = 1\n",
    "prior0_prb_ber = np.log((prior0_ber+alpha)/(total_word_cnt_ber[0]+(alpha*2)))\n",
    "prior1_prb_ber = np.log((prior1_ber+alpha)/(total_word_cnt_ber[1]+(alpha*2)))\n",
    "prior2_prb_ber = np.log((prior2_ber+alpha)/(total_word_cnt_ber[2]+(alpha*2)))\n",
    "prior3_prb_ber = np.log((prior3_ber+alpha)/(total_word_cnt_ber[3]+(alpha*2)))\n",
    "prior4_prb_ber = np.log((prior4_ber+alpha)/(total_word_cnt_ber[4]+(alpha*2)))"
   ]
  },
  {
   "cell_type": "code",
   "execution_count": 137,
   "metadata": {},
   "outputs": [
    {
     "name": "stdout",
     "output_type": "stream",
     "text": [
      "Accuracy -> 0.9658886894075404\n",
      "False predictions -> 19\n",
      "Correct predictions -> 538\n",
      "[[131.   1.   1.   0.   2.]\n",
      " [  1.  95.   0.   0.   6.]\n",
      " [  3.   0.  95.   0.   0.]\n",
      " [  1.   0.   1. 132.   0.]\n",
      " [  2.   1.   0.   0.  85.]]\n"
     ]
    }
   ],
   "source": [
    "#making bernouilli predictions\n",
    "ber_test_prediction = [[None for y in range(5)] for x in range(Y_test.shape[0])]\n",
    "count_y_0 = 0\n",
    "count_x = 0\n",
    "\n",
    "for i in range(X_test_ber.shape[0]):\n",
    "    row = X_test_ber.iloc[i]\n",
    "    temp0 = prior0_prb_ber * row.values  \n",
    "    temp0 = prior_prob_ln_ber[0] + np.sum(temp0)\n",
    "    temp1 = prior1_prb_ber * row.values\n",
    "    temp1 = prior_prob_ln_ber[1] + np.sum(temp1)\n",
    "    temp2 = prior2_prb_ber * row.values\n",
    "    temp2 = prior_prob_ln_ber[2] + np.sum(temp2)\n",
    "    temp3 = prior3_prb_ber * row.values\n",
    "    temp3 = prior_prob_ln_ber[3] + np.sum(temp3)\n",
    "    temp4 = prior4_prb_ber * row.values\n",
    "    temp4 = prior_prob_ln_ber[4] + np.sum(temp4)\n",
    "\n",
    "    ber_test_prediction[count_x][0] = temp0\n",
    "    ber_test_prediction[count_x][1] = temp1\n",
    "    ber_test_prediction[count_x][2] = temp2\n",
    "    ber_test_prediction[count_x][3] = temp3\n",
    "    ber_test_prediction[count_x][4] = temp4\n",
    "\n",
    "    count_x += 1        \n",
    "\n",
    "#choosing the class with highest probability\n",
    "ber_test_predict = np.zeros(len(ber_test_prediction))\n",
    "for l in range(len(ber_test_prediction)):\n",
    "    ber_test_predict[l] = np.argmax(ber_test_prediction[l])\n",
    "\n",
    "#calculating accuracy and confusion matrix\n",
    "correct_predicts3 = np.sum(np.equal(y_test, ber_test_predict)) # CHECKED, matches with sklearn\n",
    "acc3 = correct_predicts3 / len(y_test) # CHECKED, matches with sklearn\n",
    "neg_predicted_value3 = len(y_test) - correct_predicts3 # CHECKED, matches with sklearn\n",
    "\n",
    "print('\\nFOR BERNOULLI NAIVE BAYES')\n",
    "print(\"Accuracy -> \" + str(acc3))\n",
    "print(\"False predictions -> \" + str(neg_predicted_value3))\n",
    "print(\"Correct predictions -> \" + str(correct_predicts3))\n",
    "print(comp_confmat(y_test, ber_test_predict))"
   ]
  }
 ],
 "metadata": {
  "kernelspec": {
   "display_name": "Python 3.9.13 (conda)",
   "language": "python",
   "name": "python3"
  },
  "language_info": {
   "codemirror_mode": {
    "name": "ipython",
    "version": 3
   },
   "file_extension": ".py",
   "mimetype": "text/x-python",
   "name": "python",
   "nbconvert_exporter": "python",
   "pygments_lexer": "ipython3",
   "version": "3.8.17"
  },
  "orig_nbformat": 4,
  "vscode": {
   "interpreter": {
    "hash": "d6cf00d0795d9ec8f95bc0afb6ecf2b2e020e7a33276faf6f9d08b00dffbac8c"
   }
  }
 },
 "nbformat": 4,
 "nbformat_minor": 2
}
