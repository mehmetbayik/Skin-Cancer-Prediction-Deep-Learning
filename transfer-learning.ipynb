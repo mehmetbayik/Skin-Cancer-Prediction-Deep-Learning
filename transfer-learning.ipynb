{
 "cells": [
  {
   "cell_type": "code",
   "execution_count": 1,
   "id": "e90836a2",
   "metadata": {},
   "outputs": [
    {
     "data": {
      "text/plain": [
       "['/device:CPU:0']"
      ]
     },
     "execution_count": 1,
     "metadata": {},
     "output_type": "execute_result"
    }
   ],
   "source": [
    "import os\n",
    "import datetime\n",
    "import random # random.seed(42)\n",
    "import warnings\n",
    "import numpy as np # np.random.seed(42)\n",
    "import pandas as pd\n",
    "import seaborn as sns\n",
    "import matplotlib.pyplot as plt \n",
    "from matplotlib.colors import Normalize,LinearSegmentedColormap\n",
    "\n",
    "from sklearn.preprocessing import LabelEncoder\n",
    "from sklearn.model_selection import train_test_split\n",
    "from sklearn.metrics import classification_report, confusion_matrix, ConfusionMatrixDisplay\n",
    "import sklearn.exceptions\n",
    "from sklearn.utils import class_weight\n",
    "warnings.filterwarnings(\"ignore\", category=sklearn.exceptions.UndefinedMetricWarning)\n",
    "\n",
    "from tensorflow.config.experimental import enable_op_determinism # enable_op_determinism()\n",
    "from tensorflow.random import set_seed # set_seed(42)\n",
    "from tensorflow.python.client import device_lib\n",
    "\n",
    "from keras import backend as K\n",
    "from keras.utils import load_img, img_to_array, set_random_seed # set_random_seed(42)\n",
    "from keras.models import load_model\n",
    "from keras.preprocessing.image import ImageDataGenerator\n",
    "from keras.layers import Dense, Dropout, Flatten, Conv2D, BatchNormalization, Activation, MaxPooling2D\n",
    "from keras.layers import Input, GlobalAveragePooling2D, ZeroPadding2D\n",
    "from keras.models import Model, Sequential\n",
    "from keras.optimizers import Adam, SGD, RMSprop\n",
    "from keras.callbacks import ModelCheckpoint, EarlyStopping, ReduceLROnPlateau\n",
    "from keras import applications\n",
    "finish_sound = \"afplay /Users/mehmet/Documents/vs-code/winsquare.mp3\"\n",
    "# !conda install -y -n ml ipykernel=6.23.2 numpy==1.24.0 matplotlib=3.7.1 pandas=2.0.2 seaborn=0.12.1 scikit-learn=1.3.2 tensorflow=2.11.1\n",
    "# !jupyter nbconvert --to html skin-cancer-cnn.ipynb\n",
    "[x.name for x in device_lib.list_local_devices()]"
   ]
  },
  {
   "cell_type": "code",
   "execution_count": 2,
   "id": "e22d19b2",
   "metadata": {},
   "outputs": [
    {
     "name": "stdout",
     "output_type": "stream",
     "text": [
      "['akiec' 'bcc' 'bkl' 'mel' 'nv'] \n",
      "\n"
     ]
    }
   ],
   "source": [
    "# Train and test data paths\n",
    "train_path = \"dataverse_files/HAM10000_images_pca\"\n",
    "test_path = \"dataverse_files/ISIC2018_Task3_Test_Images\"\n",
    "\n",
    "# Read the data\n",
    "df = pd.read_csv('dataverse_files/HAM10000_metadata.csv')\n",
    "df_test = pd.read_csv('dataverse_files/ISIC2018_Task3_Test_GroundTruth.csv')\n",
    "\n",
    "# Delete df and vasc classes\n",
    "df = df[df['dx'] != 'vasc']\n",
    "df = df[df['dx'] != 'df']\n",
    "df_test = df_test[df_test['dx'] != 'vasc']\n",
    "df_test = df_test[df_test['dx'] != 'df']\n",
    "\n",
    "labels = df['dx'].sort_values().unique()\n",
    "\n",
    "# Add .jpg to image_id column\n",
    "df['image_id'] = df['image_id'].astype(str) + '.jpg'\n",
    "df_test['image_id'] = df_test['image_id'].astype(str) + '.jpg'\n",
    "\n",
    "# Drop unused columns\n",
    "# df=df.drop(['lesion_id',  'dx_type', 'age', 'sex', 'localization', 'dataset'], axis=1)\n",
    "# df_test=df_test.drop(['lesion_id',  'dx_type', 'age', 'sex', 'localization', 'dataset'], axis=1)\n",
    "df=df.drop(['lesion_id', 'dataset'], axis=1)\n",
    "df_test=df_test.drop(['lesion_id', 'dataset'], axis=1)\n",
    "\n",
    "# 'ISIC_0035068.jpg' is missing in the test set file, lets remove it from test set dataframe\n",
    "df_test = df_test[df_test['image_id'] != 'ISIC_0035068.jpg']\n",
    "\n",
    "print(labels,'\\n')\n",
    "\n",
    "df.sort_values(by=['image_id'], inplace=True)\n",
    "df.reset_index(inplace=True, drop=True)\n",
    "df_test.sort_values(by=['image_id'], inplace=True)\n",
    "df_test.reset_index(inplace=True, drop=True)\n",
    "\n",
    "train_df, val_df=train_test_split(df, train_size=0.9, shuffle=True, random_state=123, stratify=df['dx'])\n",
    "train_df.reset_index(inplace=True, drop=True)\n",
    "val_df.reset_index(inplace=True, drop=True)\n",
    "test_df = df_test.copy().sample(frac=1, random_state=123).reset_index(drop=True) # shuffle test set"
   ]
  },
  {
   "cell_type": "code",
   "execution_count": 3,
   "id": "8758de9f",
   "metadata": {},
   "outputs": [],
   "source": [
    "#To use augmented data\n",
    "x = '_3'\n",
    "train_path = 'dataverse_files/HAM10000_images_pca_augmented'+x\n",
    "train_df = pd.read_csv('dataverse_files/HAM10000_metadata_augmented'+x+'_train.csv')\n",
    "val_df = pd.read_csv('dataverse_files/HAM10000_metadata_augmented'+x+'_val.csv')"
   ]
  },
  {
   "cell_type": "code",
   "execution_count": 4,
   "id": "90e30a41",
   "metadata": {},
   "outputs": [
    {
     "name": "stdout",
     "output_type": "stream",
     "text": [
      "akiec  (294, 33, 43)\n",
      "bcc    (463, 51, 93)\n",
      "bkl    (989, 110, 217)\n",
      "mel    (1002, 111, 171)\n",
      "nv     (6034, 671, 908)\n"
     ]
    },
    {
     "data": {
      "text/plain": [
       "((8782, 6), (976, 6), (1432, 6))"
      ]
     },
     "execution_count": 4,
     "metadata": {},
     "output_type": "execute_result"
    }
   ],
   "source": [
    "for label in labels:\n",
    "    list1 = len(train_df[train_df['dx'] == label]), len(val_df[val_df['dx'] == label]), len(test_df[test_df['dx'] == label])\n",
    "    space = ' '\n",
    "    print(label,(5-len(label))*space ,list1)\n",
    "    \n",
    "train_df.shape, val_df.shape, test_df.shape"
   ]
  },
  {
   "cell_type": "code",
   "execution_count": 5,
   "metadata": {},
   "outputs": [],
   "source": [
    "# Deleting extra images from the dataset\n",
    "# np.random.seed(42)\n",
    "# grouped_train = train_df.groupby('dx')\n",
    "# grouped_val = val_df.groupby('dx')\n",
    "# for label in labels:\n",
    "#     drop_indices_train = []\n",
    "    \n",
    "#     if grouped_train.get_group(label).shape[0] > 1002:\n",
    "#         remove_n = grouped_train.get_group(label).shape[0] - 1000 # number of images in the smallest class\n",
    "#         drop_indices_train = np.random.choice(grouped_train.get_group(label).index, remove_n, replace=False)\n",
    "#         train_df = train_df.drop(drop_indices_train) # drop extra images from original dataset\n",
    "        \n",
    "#     if grouped_val.get_group(label).shape[0] > 111:\n",
    "#         remove_n = grouped_val.get_group(label).shape[0] - 100 # number of images in the smallest class\n",
    "#         drop_indices_train = np.random.choice(grouped_val.get_group(label).index, remove_n, replace=False)\n",
    "#         val_df = val_df.drop(drop_indices_train) # drop extra images from original dataset\n",
    "\n",
    "# for label in labels:\n",
    "#     list1 = len(train_df[train_df['dx'] == label]), len(val_df[val_df['dx'] == label]), len(test_df[test_df['dx'] == label])\n",
    "#     space = ' '\n",
    "#     print(label,(5-len(label))*space ,list1)\n",
    "    \n",
    "# train_df.shape, val_df.shape, test_df.shape"
   ]
  },
  {
   "cell_type": "code",
   "execution_count": 6,
   "id": "05200234",
   "metadata": {},
   "outputs": [
    {
     "name": "stdout",
     "output_type": "stream",
     "text": [
      "Found 8782 validated image filenames belonging to 5 classes.\n",
      "Found 976 validated image filenames belonging to 5 classes.\n",
      "Found 1432 validated image filenames belonging to 5 classes.\n"
     ]
    }
   ],
   "source": [
    "rescale=1./255\n",
    "color_mode = 'rgb'\n",
    "target_size = (32, 32)\n",
    "batch_size  = 64\n",
    "# 600 x 450\n",
    "train_data_np = np.array([img_to_array(load_img(train_path+'/'+img, target_size=target_size)) for img in train_df['image_id'].values.tolist()])\n",
    "\n",
    "datagen = ImageDataGenerator(rescale=rescale,\n",
    "                            featurewise_center=True,\n",
    "                            featurewise_std_normalization=True)\n",
    "datagen.fit(train_data_np)\n",
    "train_set = datagen.flow_from_dataframe(train_df,\n",
    "                                        directory=train_path,\n",
    "                                        x_col=\"image_id\",\n",
    "                                        y_col=\"dx\",\n",
    "                                        color_mode=color_mode,\n",
    "                                        target_size=target_size,\n",
    "                                        batch_size=batch_size,\n",
    "                                        class_mode='categorical',\n",
    "                                        shuffle=False\n",
    "                                        )\n",
    "\n",
    "val_set = datagen.flow_from_dataframe(val_df,\n",
    "                                      directory=train_path,\n",
    "                                      x_col=\"image_id\",\n",
    "                                      y_col=\"dx\",\n",
    "                                      color_mode=color_mode,\n",
    "                                      target_size=target_size,\n",
    "                                      batch_size=batch_size,\n",
    "                                      class_mode='categorical',\n",
    "                                      shuffle=False\n",
    "                                      )\n",
    "test_set = datagen.flow_from_dataframe(test_df,\n",
    "                                       directory=test_path,\n",
    "                                       x_col=\"image_id\",\n",
    "                                       y_col=\"dx\",\n",
    "                                       color_mode=color_mode,\n",
    "                                       target_size=target_size,\n",
    "                                       batch_size=batch_size,\n",
    "                                       class_mode='categorical',\n",
    "                                       shuffle=False\n",
    "                                       )"
   ]
  },
  {
   "cell_type": "code",
   "execution_count": 8,
   "id": "fa00a34d",
   "metadata": {},
   "outputs": [],
   "source": [
    "def loss_plot(model, history, now, save=True):\n",
    "    # convert the history.history dict to a pandas DataFrame:\n",
    "    if type(history) is not pd.DataFrame:\n",
    "        history = pd.DataFrame(history)\n",
    "    if save == True:\n",
    "        hist_csv_file = f'model-comparison/{now}/history.csv'\n",
    "        with open(hist_csv_file, mode='w') as f:\n",
    "            history.to_csv(f) \n",
    "    epochs = range(1, history.shape[0]+1)\n",
    "    plt.figure(figsize=(5, 2))\n",
    "    plt.plot(epochs, history['accuracy'], label='Accuracy')\n",
    "    plt.plot(epochs, history['val_accuracy'], label='Validation Accuracy')\n",
    "    max_val_acc_epoch = np.argmax(history['val_accuracy']) + 1\n",
    "    max_val_acc = history['val_accuracy'][max_val_acc_epoch-1]\n",
    "    label='Best Epoch = '+str(max_val_acc_epoch)+'\\nVal. Acc. = '+str((max_val_acc*100).round(2))+ '%'\n",
    "    plt.plot(max_val_acc_epoch, max_val_acc, 'ro', label=label)\n",
    "    plt.xlabel('Epoch')\n",
    "    plt.ylabel('Accuracy')\n",
    "    plt.xlim([0, history.shape[0]+0.1])\n",
    "    plt.ylim([0.5, 1])\n",
    "    plt.title('Training and Validation Accuracy')\n",
    "    plt.legend(loc='upper left')\n",
    "    if save == True:\n",
    "        plt.savefig(f'model-comparison/{now}/val-acc.png')\n",
    "        np.savetxt('model-comparison/{}/{}.txt'.format(now,str((max_val_acc*100).round(2))), [max_val_acc], fmt='%f')\n",
    "        stats = str(now) + ' ' + str((max_val_acc*100).round(2)) + '\\n'\n",
    "        with open('model-comparison/best-models.txt', 'a') as f:\n",
    "            f.write(stats)\n",
    "    plt.show()"
   ]
  },
  {
   "cell_type": "code",
   "execution_count": 9,
   "id": "07883172",
   "metadata": {},
   "outputs": [],
   "source": [
    "def EvaluateModel(model, test_set, str1, now, save = True):\n",
    "    \n",
    "    print('\\n PREDICTING LABELS OF TEST IMAGES')\n",
    "    result = model.predict(test_set)\n",
    "    y_pred = np.argmax(result, axis=1)\n",
    "    \n",
    "    if save==True:\n",
    "        #save y_pred to csv file\n",
    "        os.mkdir('model-comparison/'+now+'/'+str1)\n",
    "        np.savetxt('model-comparison/{}/{}/pred.csv'.format(now,str1), y_pred, delimiter=',', fmt='%d')\n",
    "    \n",
    "    y_true = test_set.classes # List containing true labels for each image.\n",
    "\n",
    "    # Understanding classification power of model on each class    \n",
    "    report = classification_report(y_true, y_pred, target_names=test_set.class_indices.keys())\n",
    "    report_d = pd.DataFrame(classification_report(y_true, y_pred, output_dict=True, target_names=test_set.class_indices.keys())).transpose()\n",
    "    report_d['support']['accuracy'] = report_d['support']['macro avg']\n",
    "\n",
    "    annot = report_d.copy()\n",
    "    annot.iloc[:, 0:3] = (annot.iloc[:, 0:3]*100).applymap('{:.2f}'.format) + ' %'\n",
    "    annot.iloc[7, 1] = ''\n",
    "    annot.iloc[7, 0] = ''\n",
    "    annot['support'] = annot['support'].astype(int)\n",
    "\n",
    "    # how to save report as image\n",
    "    norm = Normalize(-1,1)\n",
    "    cmap = LinearSegmentedColormap.from_list(\"\", [[norm(-1.0), \"white\"],[norm( 1.0), \"white\"]])\n",
    "    plot = sns.heatmap(report_d, annot=annot, cmap=cmap, cbar=False, fmt='')\n",
    "    fig = plot.get_figure()\n",
    "    if save==True:\n",
    "        fig.savefig('model-comparison/{}/{}/report.png'.format(now,str1))\n",
    "    \n",
    "    f1_score = ((report_d['f1-score']['weighted avg']*100000//10)/100)\n",
    "    accuracy = ((report_d['f1-score']['accuracy']*100000//10)/100)\n",
    "    print('\\nAccuracy of model prediction is: {:.2f} %'.format(accuracy))\n",
    "    print('\\nF1-score of model prediction is: {:.2f} %'.format(f1_score))\n",
    "\n",
    "    cm = confusion_matrix(y_true, y_pred)\n",
    "\n",
    "    disp = ConfusionMatrixDisplay(confusion_matrix=cm, \n",
    "                              display_labels=test_set.class_indices.keys()\n",
    "                              )\n",
    "    disp.plot(cmap='Reds')\n",
    "    disp.ax_.set_title('Confusion Matrix')\n",
    "    plt.show()\n",
    "    if save==True:\n",
    "        disp.figure_.savefig('model-comparison/{}/{}/cm.png'.format(now,str1))"
   ]
  },
  {
   "cell_type": "code",
   "execution_count": 10,
   "id": "fdccdfb3",
   "metadata": {},
   "outputs": [],
   "source": [
    "def train_new_model(model):\n",
    "    # Extra\n",
    "    #class_weights = class_weight.compute_class_weight(class_weight='balanced',classes=np.unique(train_set.classes), y=train_set.classes)\n",
    "    #class_weights_dict=dict(zip(np.unique(train_set.classes),class_weights))\n",
    "    #keras.utils.set_random_seed(42)     \n",
    "    # inside model.fit: class_weight=class_weights_dict,\n",
    "\n",
    "    # Train new model and evaluate\n",
    "    now = datetime.datetime.now().strftime(\"%d-%m-%H-%M\")\n",
    "    os.mkdir('model-comparison/'+now)\n",
    "    def myprint(s):\n",
    "        with open(f'model-comparison/{now}/modelsummary.txt','a') as f:\n",
    "            print(s, file=f)\n",
    "    model.summary(print_fn=myprint)\n",
    "    with open('model-comparison/last.txt', 'w') as f:\n",
    "        f.write(str(now))\n",
    "    return now"
   ]
  },
  {
   "cell_type": "code",
   "execution_count": 12,
   "metadata": {},
   "outputs": [],
   "source": [
    "# Transfer Learning\n",
    "\n",
    "import ssl\n",
    "ssl._create_default_https_context = ssl._create_unverified_context\n",
    "\n",
    "base_model = applications.ResNet50(weights='imagenet', include_top=False, input_shape=(target_size[0],target_size[1],3))\n",
    "                                   \n",
    "for layer in base_model.layers:\n",
    "    layer.trainable = True\n",
    "    \n",
    "# Add layers at the end\n",
    "model = base_model.output\n",
    "model = Flatten()(model)\n",
    "\n",
    "model = Dense(512, kernel_initializer='he_uniform')(model)\n",
    "model = Dropout(0.2)(model)\n",
    "model = BatchNormalization()(model)\n",
    "model = Activation('relu')(model)\n",
    "\n",
    "model = Dense(128, kernel_initializer='he_uniform')(model)\n",
    "model = Dropout(0.2)(model)\n",
    "model = BatchNormalization()(model)\n",
    "model = Activation('relu')(model)\n",
    "\n",
    "model = Dense(32, kernel_initializer='he_uniform')(model)\n",
    "model = Dropout(0.2)(model)\n",
    "model = BatchNormalization()(model)\n",
    "model = Activation('relu')(model)\n",
    "\n",
    "output = Dense(len(labels), activation='softmax')(model)\n",
    "\n",
    "model = Model(inputs=base_model.input, outputs=output)\n",
    "\n",
    "optimizer = Adam(learning_rate=0.0001)\n",
    "model.compile(loss='categorical_crossentropy',\n",
    "              optimizer=optimizer, \n",
    "              metrics=['accuracy'])\n",
    "n_epoch = 10"
   ]
  },
  {
   "cell_type": "code",
   "execution_count": 13,
   "metadata": {},
   "outputs": [
    {
     "name": "stdout",
     "output_type": "stream",
     "text": [
      "Epoch 1/60\n"
     ]
    },
    {
     "name": "stderr",
     "output_type": "stream",
     "text": [
      "2023-12-18 02:24:03.496138: W tensorflow/tsl/platform/profile_utils/cpu_utils.cc:128] Failed to get CPU frequency: 0 Hz\n"
     ]
    },
    {
     "name": "stdout",
     "output_type": "stream",
     "text": [
      "81/81 [==============================] - 75s 885ms/step - loss: 1.5845 - accuracy: 0.3463 - val_loss: 1.6928 - val_accuracy: 0.1784 - lr: 1.0000e-04\n",
      "Epoch 2/60\n",
      "81/81 [==============================] - 70s 865ms/step - loss: 1.1114 - accuracy: 0.5857 - val_loss: 1.8091 - val_accuracy: 0.2162 - lr: 1.0000e-04\n",
      "Epoch 3/60\n",
      "81/81 [==============================] - 73s 905ms/step - loss: 0.8053 - accuracy: 0.7630 - val_loss: 3.0241 - val_accuracy: 0.2162 - lr: 1.0000e-04\n",
      "Epoch 4/60\n",
      "81/81 [==============================] - 71s 870ms/step - loss: 0.5911 - accuracy: 0.8525 - val_loss: 1.7226 - val_accuracy: 0.2459 - lr: 1.0000e-04\n",
      "Epoch 5/60\n",
      "81/81 [==============================] - 76s 940ms/step - loss: 0.4378 - accuracy: 0.9117 - val_loss: 1.6872 - val_accuracy: 0.2838 - lr: 1.0000e-04\n",
      "Epoch 6/60\n",
      "29/81 [=========>....................] - ETA: 50s - loss: 0.3402 - accuracy: 0.9524"
     ]
    },
    {
     "ename": "KeyboardInterrupt",
     "evalue": "",
     "output_type": "error",
     "traceback": [
      "\u001b[0;31m---------------------------------------------------------------------------\u001b[0m",
      "\u001b[0;31mKeyboardInterrupt\u001b[0m                         Traceback (most recent call last)",
      "\u001b[1;32m/Users/mehmet/Documents/vs-code/CS464-Introduction-to-Machine-Learning/skin-cancer-cnn.ipynb Cell 13\u001b[0m line \u001b[0;36m8\n\u001b[1;32m      <a href='vscode-notebook-cell:/Users/mehmet/Documents/vs-code/CS464-Introduction-to-Machine-Learning/skin-cancer-cnn.ipynb#X45sZmlsZQ%3D%3D?line=4'>5</a>\u001b[0m reduce_lr \u001b[39m=\u001b[39m ReduceLROnPlateau(monitor\u001b[39m=\u001b[39m\u001b[39m'\u001b[39m\u001b[39mval_loss\u001b[39m\u001b[39m'\u001b[39m, factor\u001b[39m=\u001b[39m\u001b[39m0.1\u001b[39m, patience\u001b[39m=\u001b[39m\u001b[39m5\u001b[39m, verbose\u001b[39m=\u001b[39m\u001b[39m1\u001b[39m, mode\u001b[39m=\u001b[39m\u001b[39m'\u001b[39m\u001b[39mauto\u001b[39m\u001b[39m'\u001b[39m)\n\u001b[1;32m      <a href='vscode-notebook-cell:/Users/mehmet/Documents/vs-code/CS464-Introduction-to-Machine-Learning/skin-cancer-cnn.ipynb#X45sZmlsZQ%3D%3D?line=5'>6</a>\u001b[0m checkpoint \u001b[39m=\u001b[39m ModelCheckpoint(\u001b[39mf\u001b[39m\u001b[39m\"\u001b[39m\u001b[39mmodel-comparison/\u001b[39m\u001b[39m{\u001b[39;00mnow\u001b[39m}\u001b[39;00m\u001b[39m/model.h5\u001b[39m\u001b[39m\"\u001b[39m, monitor\u001b[39m=\u001b[39m\u001b[39m'\u001b[39m\u001b[39mval_accuracy\u001b[39m\u001b[39m'\u001b[39m, save_best_only\u001b[39m=\u001b[39m\u001b[39mTrue\u001b[39;00m, mode\u001b[39m=\u001b[39m\u001b[39m'\u001b[39m\u001b[39mmax\u001b[39m\u001b[39m'\u001b[39m)\n\u001b[0;32m----> <a href='vscode-notebook-cell:/Users/mehmet/Documents/vs-code/CS464-Introduction-to-Machine-Learning/skin-cancer-cnn.ipynb#X45sZmlsZQ%3D%3D?line=7'>8</a>\u001b[0m history \u001b[39m=\u001b[39m model\u001b[39m.\u001b[39;49mfit(train_set,\n\u001b[1;32m      <a href='vscode-notebook-cell:/Users/mehmet/Documents/vs-code/CS464-Introduction-to-Machine-Learning/skin-cancer-cnn.ipynb#X45sZmlsZQ%3D%3D?line=8'>9</a>\u001b[0m                     epochs\u001b[39m=\u001b[39;49m\u001b[39m60\u001b[39;49m,\n\u001b[1;32m     <a href='vscode-notebook-cell:/Users/mehmet/Documents/vs-code/CS464-Introduction-to-Machine-Learning/skin-cancer-cnn.ipynb#X45sZmlsZQ%3D%3D?line=9'>10</a>\u001b[0m                     callbacks\u001b[39m=\u001b[39;49m[reduce_lr,early_stop,checkpoint],\n\u001b[1;32m     <a href='vscode-notebook-cell:/Users/mehmet/Documents/vs-code/CS464-Introduction-to-Machine-Learning/skin-cancer-cnn.ipynb#X45sZmlsZQ%3D%3D?line=10'>11</a>\u001b[0m                     validation_data\u001b[39m=\u001b[39;49mval_set,\n\u001b[1;32m     <a href='vscode-notebook-cell:/Users/mehmet/Documents/vs-code/CS464-Introduction-to-Machine-Learning/skin-cancer-cnn.ipynb#X45sZmlsZQ%3D%3D?line=11'>12</a>\u001b[0m                     shuffle\u001b[39m=\u001b[39;49m\u001b[39mTrue\u001b[39;49;00m)\n\u001b[1;32m     <a href='vscode-notebook-cell:/Users/mehmet/Documents/vs-code/CS464-Introduction-to-Machine-Learning/skin-cancer-cnn.ipynb#X45sZmlsZQ%3D%3D?line=14'>15</a>\u001b[0m \u001b[39m# Evaluate Transfer Learning model\u001b[39;00m\n\u001b[1;32m     <a href='vscode-notebook-cell:/Users/mehmet/Documents/vs-code/CS464-Introduction-to-Machine-Learning/skin-cancer-cnn.ipynb#X45sZmlsZQ%3D%3D?line=15'>16</a>\u001b[0m loss_plot(model, history\u001b[39m.\u001b[39mhistory, now)\n",
      "File \u001b[0;32m~/miniforge3/envs/ml/lib/python3.8/site-packages/keras/utils/traceback_utils.py:65\u001b[0m, in \u001b[0;36mfilter_traceback.<locals>.error_handler\u001b[0;34m(*args, **kwargs)\u001b[0m\n\u001b[1;32m     63\u001b[0m filtered_tb \u001b[39m=\u001b[39m \u001b[39mNone\u001b[39;00m\n\u001b[1;32m     64\u001b[0m \u001b[39mtry\u001b[39;00m:\n\u001b[0;32m---> 65\u001b[0m     \u001b[39mreturn\u001b[39;00m fn(\u001b[39m*\u001b[39;49margs, \u001b[39m*\u001b[39;49m\u001b[39m*\u001b[39;49mkwargs)\n\u001b[1;32m     66\u001b[0m \u001b[39mexcept\u001b[39;00m \u001b[39mException\u001b[39;00m \u001b[39mas\u001b[39;00m e:\n\u001b[1;32m     67\u001b[0m     filtered_tb \u001b[39m=\u001b[39m _process_traceback_frames(e\u001b[39m.\u001b[39m__traceback__)\n",
      "File \u001b[0;32m~/miniforge3/envs/ml/lib/python3.8/site-packages/keras/engine/training.py:1650\u001b[0m, in \u001b[0;36mModel.fit\u001b[0;34m(self, x, y, batch_size, epochs, verbose, callbacks, validation_split, validation_data, shuffle, class_weight, sample_weight, initial_epoch, steps_per_epoch, validation_steps, validation_batch_size, validation_freq, max_queue_size, workers, use_multiprocessing)\u001b[0m\n\u001b[1;32m   1642\u001b[0m \u001b[39mwith\u001b[39;00m tf\u001b[39m.\u001b[39mprofiler\u001b[39m.\u001b[39mexperimental\u001b[39m.\u001b[39mTrace(\n\u001b[1;32m   1643\u001b[0m     \u001b[39m\"\u001b[39m\u001b[39mtrain\u001b[39m\u001b[39m\"\u001b[39m,\n\u001b[1;32m   1644\u001b[0m     epoch_num\u001b[39m=\u001b[39mepoch,\n\u001b[0;32m   (...)\u001b[0m\n\u001b[1;32m   1647\u001b[0m     _r\u001b[39m=\u001b[39m\u001b[39m1\u001b[39m,\n\u001b[1;32m   1648\u001b[0m ):\n\u001b[1;32m   1649\u001b[0m     callbacks\u001b[39m.\u001b[39mon_train_batch_begin(step)\n\u001b[0;32m-> 1650\u001b[0m     tmp_logs \u001b[39m=\u001b[39m \u001b[39mself\u001b[39;49m\u001b[39m.\u001b[39;49mtrain_function(iterator)\n\u001b[1;32m   1651\u001b[0m     \u001b[39mif\u001b[39;00m data_handler\u001b[39m.\u001b[39mshould_sync:\n\u001b[1;32m   1652\u001b[0m         context\u001b[39m.\u001b[39masync_wait()\n",
      "File \u001b[0;32m~/miniforge3/envs/ml/lib/python3.8/site-packages/tensorflow/python/util/traceback_utils.py:150\u001b[0m, in \u001b[0;36mfilter_traceback.<locals>.error_handler\u001b[0;34m(*args, **kwargs)\u001b[0m\n\u001b[1;32m    148\u001b[0m filtered_tb \u001b[39m=\u001b[39m \u001b[39mNone\u001b[39;00m\n\u001b[1;32m    149\u001b[0m \u001b[39mtry\u001b[39;00m:\n\u001b[0;32m--> 150\u001b[0m   \u001b[39mreturn\u001b[39;00m fn(\u001b[39m*\u001b[39;49margs, \u001b[39m*\u001b[39;49m\u001b[39m*\u001b[39;49mkwargs)\n\u001b[1;32m    151\u001b[0m \u001b[39mexcept\u001b[39;00m \u001b[39mException\u001b[39;00m \u001b[39mas\u001b[39;00m e:\n\u001b[1;32m    152\u001b[0m   filtered_tb \u001b[39m=\u001b[39m _process_traceback_frames(e\u001b[39m.\u001b[39m__traceback__)\n",
      "File \u001b[0;32m~/miniforge3/envs/ml/lib/python3.8/site-packages/tensorflow/python/eager/polymorphic_function/polymorphic_function.py:880\u001b[0m, in \u001b[0;36mFunction.__call__\u001b[0;34m(self, *args, **kwds)\u001b[0m\n\u001b[1;32m    877\u001b[0m compiler \u001b[39m=\u001b[39m \u001b[39m\"\u001b[39m\u001b[39mxla\u001b[39m\u001b[39m\"\u001b[39m \u001b[39mif\u001b[39;00m \u001b[39mself\u001b[39m\u001b[39m.\u001b[39m_jit_compile \u001b[39melse\u001b[39;00m \u001b[39m\"\u001b[39m\u001b[39mnonXla\u001b[39m\u001b[39m\"\u001b[39m\n\u001b[1;32m    879\u001b[0m \u001b[39mwith\u001b[39;00m OptionalXlaContext(\u001b[39mself\u001b[39m\u001b[39m.\u001b[39m_jit_compile):\n\u001b[0;32m--> 880\u001b[0m   result \u001b[39m=\u001b[39m \u001b[39mself\u001b[39;49m\u001b[39m.\u001b[39;49m_call(\u001b[39m*\u001b[39;49margs, \u001b[39m*\u001b[39;49m\u001b[39m*\u001b[39;49mkwds)\n\u001b[1;32m    882\u001b[0m new_tracing_count \u001b[39m=\u001b[39m \u001b[39mself\u001b[39m\u001b[39m.\u001b[39mexperimental_get_tracing_count()\n\u001b[1;32m    883\u001b[0m without_tracing \u001b[39m=\u001b[39m (tracing_count \u001b[39m==\u001b[39m new_tracing_count)\n",
      "File \u001b[0;32m~/miniforge3/envs/ml/lib/python3.8/site-packages/tensorflow/python/eager/polymorphic_function/polymorphic_function.py:912\u001b[0m, in \u001b[0;36mFunction._call\u001b[0;34m(self, *args, **kwds)\u001b[0m\n\u001b[1;32m    909\u001b[0m   \u001b[39mself\u001b[39m\u001b[39m.\u001b[39m_lock\u001b[39m.\u001b[39mrelease()\n\u001b[1;32m    910\u001b[0m   \u001b[39m# In this case we have created variables on the first call, so we run the\u001b[39;00m\n\u001b[1;32m    911\u001b[0m   \u001b[39m# defunned version which is guaranteed to never create variables.\u001b[39;00m\n\u001b[0;32m--> 912\u001b[0m   \u001b[39mreturn\u001b[39;00m \u001b[39mself\u001b[39;49m\u001b[39m.\u001b[39;49m_no_variable_creation_fn(\u001b[39m*\u001b[39;49margs, \u001b[39m*\u001b[39;49m\u001b[39m*\u001b[39;49mkwds)  \u001b[39m# pylint: disable=not-callable\u001b[39;00m\n\u001b[1;32m    913\u001b[0m \u001b[39melif\u001b[39;00m \u001b[39mself\u001b[39m\u001b[39m.\u001b[39m_variable_creation_fn \u001b[39mis\u001b[39;00m \u001b[39mnot\u001b[39;00m \u001b[39mNone\u001b[39;00m:\n\u001b[1;32m    914\u001b[0m   \u001b[39m# Release the lock early so that multiple threads can perform the call\u001b[39;00m\n\u001b[1;32m    915\u001b[0m   \u001b[39m# in parallel.\u001b[39;00m\n\u001b[1;32m    916\u001b[0m   \u001b[39mself\u001b[39m\u001b[39m.\u001b[39m_lock\u001b[39m.\u001b[39mrelease()\n",
      "File \u001b[0;32m~/miniforge3/envs/ml/lib/python3.8/site-packages/tensorflow/python/eager/polymorphic_function/tracing_compiler.py:134\u001b[0m, in \u001b[0;36mTracingCompiler.__call__\u001b[0;34m(self, *args, **kwargs)\u001b[0m\n\u001b[1;32m    131\u001b[0m \u001b[39mwith\u001b[39;00m \u001b[39mself\u001b[39m\u001b[39m.\u001b[39m_lock:\n\u001b[1;32m    132\u001b[0m   (concrete_function,\n\u001b[1;32m    133\u001b[0m    filtered_flat_args) \u001b[39m=\u001b[39m \u001b[39mself\u001b[39m\u001b[39m.\u001b[39m_maybe_define_function(args, kwargs)\n\u001b[0;32m--> 134\u001b[0m \u001b[39mreturn\u001b[39;00m concrete_function\u001b[39m.\u001b[39;49m_call_flat(\n\u001b[1;32m    135\u001b[0m     filtered_flat_args, captured_inputs\u001b[39m=\u001b[39;49mconcrete_function\u001b[39m.\u001b[39;49mcaptured_inputs)\n",
      "File \u001b[0;32m~/miniforge3/envs/ml/lib/python3.8/site-packages/tensorflow/python/eager/polymorphic_function/monomorphic_function.py:1745\u001b[0m, in \u001b[0;36mConcreteFunction._call_flat\u001b[0;34m(self, args, captured_inputs, cancellation_manager)\u001b[0m\n\u001b[1;32m   1741\u001b[0m possible_gradient_type \u001b[39m=\u001b[39m gradients_util\u001b[39m.\u001b[39mPossibleTapeGradientTypes(args)\n\u001b[1;32m   1742\u001b[0m \u001b[39mif\u001b[39;00m (possible_gradient_type \u001b[39m==\u001b[39m gradients_util\u001b[39m.\u001b[39mPOSSIBLE_GRADIENT_TYPES_NONE\n\u001b[1;32m   1743\u001b[0m     \u001b[39mand\u001b[39;00m executing_eagerly):\n\u001b[1;32m   1744\u001b[0m   \u001b[39m# No tape is watching; skip to running the function.\u001b[39;00m\n\u001b[0;32m-> 1745\u001b[0m   \u001b[39mreturn\u001b[39;00m \u001b[39mself\u001b[39m\u001b[39m.\u001b[39m_build_call_outputs(\u001b[39mself\u001b[39;49m\u001b[39m.\u001b[39;49m_inference_function\u001b[39m.\u001b[39;49mcall(\n\u001b[1;32m   1746\u001b[0m       ctx, args, cancellation_manager\u001b[39m=\u001b[39;49mcancellation_manager))\n\u001b[1;32m   1747\u001b[0m forward_backward \u001b[39m=\u001b[39m \u001b[39mself\u001b[39m\u001b[39m.\u001b[39m_select_forward_and_backward_functions(\n\u001b[1;32m   1748\u001b[0m     args,\n\u001b[1;32m   1749\u001b[0m     possible_gradient_type,\n\u001b[1;32m   1750\u001b[0m     executing_eagerly)\n\u001b[1;32m   1751\u001b[0m forward_function, args_with_tangents \u001b[39m=\u001b[39m forward_backward\u001b[39m.\u001b[39mforward()\n",
      "File \u001b[0;32m~/miniforge3/envs/ml/lib/python3.8/site-packages/tensorflow/python/eager/polymorphic_function/monomorphic_function.py:378\u001b[0m, in \u001b[0;36m_EagerDefinedFunction.call\u001b[0;34m(self, ctx, args, cancellation_manager)\u001b[0m\n\u001b[1;32m    376\u001b[0m \u001b[39mwith\u001b[39;00m _InterpolateFunctionError(\u001b[39mself\u001b[39m):\n\u001b[1;32m    377\u001b[0m   \u001b[39mif\u001b[39;00m cancellation_manager \u001b[39mis\u001b[39;00m \u001b[39mNone\u001b[39;00m:\n\u001b[0;32m--> 378\u001b[0m     outputs \u001b[39m=\u001b[39m execute\u001b[39m.\u001b[39;49mexecute(\n\u001b[1;32m    379\u001b[0m         \u001b[39mstr\u001b[39;49m(\u001b[39mself\u001b[39;49m\u001b[39m.\u001b[39;49msignature\u001b[39m.\u001b[39;49mname),\n\u001b[1;32m    380\u001b[0m         num_outputs\u001b[39m=\u001b[39;49m\u001b[39mself\u001b[39;49m\u001b[39m.\u001b[39;49m_num_outputs,\n\u001b[1;32m    381\u001b[0m         inputs\u001b[39m=\u001b[39;49margs,\n\u001b[1;32m    382\u001b[0m         attrs\u001b[39m=\u001b[39;49mattrs,\n\u001b[1;32m    383\u001b[0m         ctx\u001b[39m=\u001b[39;49mctx)\n\u001b[1;32m    384\u001b[0m   \u001b[39melse\u001b[39;00m:\n\u001b[1;32m    385\u001b[0m     outputs \u001b[39m=\u001b[39m execute\u001b[39m.\u001b[39mexecute_with_cancellation(\n\u001b[1;32m    386\u001b[0m         \u001b[39mstr\u001b[39m(\u001b[39mself\u001b[39m\u001b[39m.\u001b[39msignature\u001b[39m.\u001b[39mname),\n\u001b[1;32m    387\u001b[0m         num_outputs\u001b[39m=\u001b[39m\u001b[39mself\u001b[39m\u001b[39m.\u001b[39m_num_outputs,\n\u001b[0;32m   (...)\u001b[0m\n\u001b[1;32m    390\u001b[0m         ctx\u001b[39m=\u001b[39mctx,\n\u001b[1;32m    391\u001b[0m         cancellation_manager\u001b[39m=\u001b[39mcancellation_manager)\n",
      "File \u001b[0;32m~/miniforge3/envs/ml/lib/python3.8/site-packages/tensorflow/python/eager/execute.py:52\u001b[0m, in \u001b[0;36mquick_execute\u001b[0;34m(op_name, num_outputs, inputs, attrs, ctx, name)\u001b[0m\n\u001b[1;32m     50\u001b[0m \u001b[39mtry\u001b[39;00m:\n\u001b[1;32m     51\u001b[0m   ctx\u001b[39m.\u001b[39mensure_initialized()\n\u001b[0;32m---> 52\u001b[0m   tensors \u001b[39m=\u001b[39m pywrap_tfe\u001b[39m.\u001b[39;49mTFE_Py_Execute(ctx\u001b[39m.\u001b[39;49m_handle, device_name, op_name,\n\u001b[1;32m     53\u001b[0m                                       inputs, attrs, num_outputs)\n\u001b[1;32m     54\u001b[0m \u001b[39mexcept\u001b[39;00m core\u001b[39m.\u001b[39m_NotOkStatusException \u001b[39mas\u001b[39;00m e:\n\u001b[1;32m     55\u001b[0m   \u001b[39mif\u001b[39;00m name \u001b[39mis\u001b[39;00m \u001b[39mnot\u001b[39;00m \u001b[39mNone\u001b[39;00m:\n",
      "\u001b[0;31mKeyboardInterrupt\u001b[0m: "
     ]
    }
   ],
   "source": [
    "now = train_new_model(model)\n",
    "\n",
    "# Callbacks\n",
    "early_stop = EarlyStopping(monitor='val_loss', patience=10, verbose=1, mode='auto', restore_best_weights=True)\n",
    "reduce_lr = ReduceLROnPlateau(monitor='val_loss', factor=0.1, patience=5, verbose=1, mode='auto')\n",
    "checkpoint = ModelCheckpoint(f\"model-comparison/{now}/model.h5\", monitor='val_accuracy', save_best_only=True, mode='max')\n",
    "\n",
    "history = model.fit(train_set,\n",
    "                    epochs=60,\n",
    "                    callbacks=[reduce_lr,early_stop,checkpoint],\n",
    "                    validation_data=val_set,\n",
    "                    shuffle=True)\n",
    "\n",
    "\n",
    "# Evaluate Transfer Learning model\n",
    "loss_plot(model, history.history, now)\n",
    "EvaluateModel(model, val_set, 'val', now)\n",
    "EvaluateModel(model, test_set, 'test', now)\n",
    "os.system(finish_sound)"
   ]
  }
 ],
 "metadata": {
  "kernelspec": {
   "display_name": "Python 3 (ipykernel)",
   "language": "python",
   "name": "python3"
  },
  "language_info": {
   "codemirror_mode": {
    "name": "ipython",
    "version": 3
   },
   "file_extension": ".py",
   "mimetype": "text/x-python",
   "name": "python",
   "nbconvert_exporter": "python",
   "pygments_lexer": "ipython3",
   "version": "3.8.17"
  }
 },
 "nbformat": 4,
 "nbformat_minor": 5
}
