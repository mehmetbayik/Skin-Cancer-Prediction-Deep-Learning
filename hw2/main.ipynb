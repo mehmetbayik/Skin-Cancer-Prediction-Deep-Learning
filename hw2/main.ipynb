{
 "cells": [
  {
   "cell_type": "code",
   "execution_count": 4,
   "metadata": {},
   "outputs": [],
   "source": [
    "#importing libraries\n",
    "import numpy as np\n",
    "import pandas as pd\n",
    "import matplotlib.pyplot as plt\n",
    "import gzip"
   ]
  },
  {
   "cell_type": "markdown",
   "metadata": {},
   "source": [
    "# **Q1 PCA Analysis**"
   ]
  },
  {
   "cell_type": "code",
   "execution_count": 5,
   "metadata": {},
   "outputs": [],
   "source": [
    "# Function to read pixel data from the dataset\n",
    "def read_pixels(data_path):\n",
    "    with gzip.open(data_path) as f:\n",
    "        pixel_data = np.frombuffer(f.read(), 'B', offset=16).astype('float32')\n",
    "    normalized_pixels = pixel_data / 255\n",
    "    flattened_pixels = None # TODO: Flatten the normalized pixels\n",
    "    return flattened_pixels\n",
    "\n",
    "# Function to read label data from the dataset\n",
    "def read_labels(data_path):\n",
    "    with gzip.open(data_path) as f:\n",
    "        label_data = np.frombuffer(f.read(), 'B', offset=8)\n",
    "    return label_data\n",
    "\n",
    "images = read_pixels(\"data/train-images-idx3-ubyte.gz\")\n",
    "labels = read_labels(\"data/train-labels-idx1-ubyte.gz\")"
   ]
  },
  {
   "cell_type": "code",
   "execution_count": 7,
   "metadata": {},
   "outputs": [
    {
     "ename": "AttributeError",
     "evalue": "'NoneType' object has no attribute 'shape'",
     "output_type": "error",
     "traceback": [
      "\u001b[0;31m---------------------------------------------------------------------------\u001b[0m",
      "\u001b[0;31mAttributeError\u001b[0m                            Traceback (most recent call last)",
      "\u001b[1;32m/Users/mehmet/Documents/vs-code/CS464-Introduction-to-Machine-Learning/hw2/main.ipynb Cell 4\u001b[0m line \u001b[0;36m1\n\u001b[0;32m----> <a href='vscode-notebook-cell:/Users/mehmet/Documents/vs-code/CS464-Introduction-to-Machine-Learning/hw2/main.ipynb#X33sZmlsZQ%3D%3D?line=0'>1</a>\u001b[0m \u001b[39mprint\u001b[39m(images\u001b[39m.\u001b[39;49mshape)\n",
      "\u001b[0;31mAttributeError\u001b[0m: 'NoneType' object has no attribute 'shape'"
     ]
    }
   ],
   "source": []
  }
 ],
 "metadata": {
  "kernelspec": {
   "display_name": "Python 3.9.13 (conda)",
   "language": "python",
   "name": "python3"
  },
  "language_info": {
   "codemirror_mode": {
    "name": "ipython",
    "version": 3
   },
   "file_extension": ".py",
   "mimetype": "text/x-python",
   "name": "python",
   "nbconvert_exporter": "python",
   "pygments_lexer": "ipython3",
   "version": "3.8.17"
  },
  "orig_nbformat": 4,
  "vscode": {
   "interpreter": {
    "hash": "d6cf00d0795d9ec8f95bc0afb6ecf2b2e020e7a33276faf6f9d08b00dffbac8c"
   }
  }
 },
 "nbformat": 4,
 "nbformat_minor": 2
}
