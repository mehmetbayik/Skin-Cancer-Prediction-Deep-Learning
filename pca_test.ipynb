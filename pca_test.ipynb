{
 "cells": [
  {
   "cell_type": "code",
   "execution_count": 66,
   "metadata": {},
   "outputs": [],
   "source": [
    "import cv2\n",
    "import numpy as np\n",
    "import pandas as pd\n",
    "import matplotlib.pyplot as plt\n",
    "from sklearn.decomposition import PCA"
   ]
  },
  {
   "cell_type": "code",
   "execution_count": 90,
   "metadata": {},
   "outputs": [],
   "source": [
    "def img_pca(img_dir, pca_components, destination_file):\n",
    "    temp_dir = 'images/' + img_dir + '.jpg'\n",
    "    img = cv2.cvtColor(cv2.imread(temp_dir), cv2.COLOR_BGR2RGB)\n",
    "    r, g, b = cv2.split(img)\n",
    "    r, g, b = r / 255, g / 255, b / 255\n",
    "\n",
    "    pca_r = PCA(n_components = pca_components)\n",
    "    reduced_r = pca_r.fit_transform(r)\n",
    "\n",
    "    pca_g = PCA(n_components = pca_components)\n",
    "    reduced_g = pca_g.fit_transform(g)\n",
    "\n",
    "    pca_b = PCA(n_components = pca_components)\n",
    "    reduced_b = pca_b.fit_transform(b)\n",
    "\n",
    "    img_reduced = cv2.merge((reduced_r, reduced_g, reduced_b))\n",
    "    save_dir = destination_file + '/' + img_dir\n",
    "    np.save(save_dir, img_reduced)\n",
    "\n",
    "    #reconstructed_r = pca_r.inverse_transform(reduced_r)\n",
    "    #reconstructed_g = pca_g.inverse_transform(reduced_g)\n",
    "    #reconstructed_b = pca_b.inverse_transform(reduced_b)\n",
    "\n",
    "    #img_reconstructed = (cv2.merge((reconstructed_r, reconstructed_g, reconstructed_b)))\n",
    "    #save_dir = destination_file + '/' + img_dir\n",
    "    #np.save(save_dir, img_reconstructed)"
   ]
  },
  {
   "cell_type": "code",
   "execution_count": null,
   "metadata": {},
   "outputs": [],
   "source": [
    "metadata = pd.read_csv('skincancer_metadata')\n",
    "img_id = metadata['image_id']\n",
    "\n",
    "for i in range(img_id.shape[0]):\n",
    "    img_dir = img_id[i]\n",
    "    img_pca(img_dir, 50, 'pca_npy')"
   ]
  },
  {
   "cell_type": "code",
   "execution_count": 92,
   "metadata": {},
   "outputs": [],
   "source": [
    "temp_dir = 'ISIC_0024306.jpg'\n",
    "img = cv2.cvtColor(cv2.imread(temp_dir), cv2.COLOR_BGR2RGB)\n",
    "r, g, b = cv2.split(img)\n",
    "r, g, b = r / 255, g / 255, b / 255\n",
    "\n",
    "pca_components = 50\n",
    "\n",
    "pca_r = PCA(n_components = pca_components)\n",
    "reduced_r = pca_r.fit_transform(r)\n",
    "\n",
    "pca_g = PCA(n_components = pca_components)\n",
    "reduced_g = pca_g.fit_transform(g)\n",
    "\n",
    "pca_b = PCA(n_components = pca_components)\n",
    "reduced_b = pca_b.fit_transform(b)"
   ]
  },
  {
   "cell_type": "code",
   "execution_count": 94,
   "metadata": {},
   "outputs": [
    {
     "data": {
      "text/plain": [
       "(450, 50)"
      ]
     },
     "execution_count": 94,
     "metadata": {},
     "output_type": "execute_result"
    }
   ],
   "source": [
    "reduced_r.shape"
   ]
  },
  {
   "cell_type": "code",
   "execution_count": 95,
   "metadata": {},
   "outputs": [
    {
     "data": {
      "text/plain": [
       "(450, 600, 3)"
      ]
     },
     "execution_count": 95,
     "metadata": {},
     "output_type": "execute_result"
    }
   ],
   "source": [
    "img.shape"
   ]
  },
  {
   "cell_type": "code",
   "execution_count": 96,
   "metadata": {},
   "outputs": [],
   "source": [
    "combine = cv2.merge((reduced_r, reduced_g, reduced_b))"
   ]
  },
  {
   "cell_type": "code",
   "execution_count": 97,
   "metadata": {},
   "outputs": [
    {
     "data": {
      "text/plain": [
       "(450, 50, 3)"
      ]
     },
     "execution_count": 97,
     "metadata": {},
     "output_type": "execute_result"
    }
   ],
   "source": [
    "combine.shape"
   ]
  },
  {
   "cell_type": "code",
   "execution_count": null,
   "metadata": {},
   "outputs": [],
   "source": []
  }
 ],
 "metadata": {
  "kernelspec": {
   "display_name": "Python 3",
   "language": "python",
   "name": "python3"
  },
  "language_info": {
   "codemirror_mode": {
    "name": "ipython",
    "version": 3
   },
   "file_extension": ".py",
   "mimetype": "text/x-python",
   "name": "python",
   "nbconvert_exporter": "python",
   "pygments_lexer": "ipython3",
   "version": "3.11.2"
  }
 },
 "nbformat": 4,
 "nbformat_minor": 2
}
